{
  "nbformat": 4,
  "nbformat_minor": 0,
  "metadata": {
    "colab": {
      "provenance": []
    },
    "kernelspec": {
      "name": "python3",
      "display_name": "Python 3"
    },
    "language_info": {
      "name": "python"
    }
  },
  "cells": [
    {
      "cell_type": "markdown",
      "source": [
        "\n",
        "#  <center><font color='FC4C02' size=\"5\">*RECON - Cash Management*</font></center>\n",
        "\n"
      ],
      "metadata": {
        "id": "C3US3ryc3jCL"
      }
    },
    {
      "cell_type": "markdown",
      "source": [
        "\n",
        "\n",
        "#### <font color='FC4C02'>Situación </font>\n",
        "Santander tiene una relacion como banco adquiriente con Clip, esto quiere decir que los pagos realizados con clip en principio los adquiere Santander y luego de manera diaria Santander deposita todos estos pagos a clip, la conciliación busca validar que toda transacción realizada en clip que este en su base de datos sea depositada por Santander.\n",
        "\n",
        "Clip y Santander consideran una partida como conciliable toda aquella transacción cuyo  estado en la base de datos  sea  <font color='FC4C02'>**PAGADA**</font> y que no este duplicada factores externos.\n",
        "\n",
        "Para esto, <font color='FC4C02'>**Clip**</font> comparará para cada transacción campos únicos entre las dos entidades buscando encontrar parejas que sean exactamente iguales bajo las siguientes condiciones:\n",
        "\n",
        "* Que tengan el mismo <font color='FC4C02'>ID</font>.\n",
        "* Que tenga los mismos <font color='FC4C02'>6 primeros</font> dígitos de la tarjeta.\n",
        "* Que tengan los mismos <font color='FC4C02'>4 últimos</font> dígitos de la tarjeta.\n",
        "* Que el <font color='FC4C02'>valor pagado</font> en la transacción sea igual o que su diferencia esté en el rango de más o menos 0.99 pesos.\n",
        "* Que tengan la misma <font color='FC4C02'>fecha de transacción</font>.\n",
        "\n"
      ],
      "metadata": {
        "id": "uRWCrTSf3dWh"
      }
    },
    {
      "cell_type": "code",
      "source": [
        "import requests\n",
        "import subprocess\n",
        "import os\n",
        "\n",
        "def file_download(filename,url):\n",
        "  if os.path.exists(filename):\n",
        "    print(\"El archivo ya existe.\")\n",
        "  else:\n",
        "    response = requests.get(url)\n",
        "    if response.status_code == 200:\n",
        "        with open(filename, 'wb') as f:\n",
        "            f.write(response.content)\n",
        "        print('Archivo descargado exitosamente.')\n",
        "    else:\n",
        "        print('Error al descargar el archivo. Código de estado:', response.status_code)\n",
        "\n",
        "\n",
        "def install_spark():\n",
        "  command = \"pip install pyspark\"\n",
        "  result = subprocess.run(command, shell=True, capture_output=True, text=True)\n",
        "  if result.returncode == 0:\n",
        "      print(\"Salida del comando:\")\n",
        "      print(result.stdout)\n",
        "  else:\n",
        "      print(\"Error:\", result.stderr)\n",
        "\n",
        "url_clip = 'https://firebasestorage.googleapis.com/v0/b/prueba-tecnica-43c45.appspot.com/o/clip_v2.csv?alt=media&token=b62257f8-8382-4876-9d78-d52ef6925dea'\n",
        "url_santander = 'https://firebasestorage.googleapis.com/v0/b/prueba-tecnica-43c45.appspot.com/o/SANTANDER_DB.csv?alt=media&token=4fd34436-cc95-41b5-ac39-faad0c5fef39'\n",
        "\n",
        "file_download('CLIP.csv',url_clip)\n",
        "file_download('SANTANDER.csv',url_santander)\n",
        "install_spark()"
      ],
      "metadata": {
        "colab": {
          "base_uri": "https://localhost:8080/"
        },
        "id": "9neFN3kryM_T",
        "outputId": "7ade85c6-844c-4fd9-deac-b2f279fc2438"
      },
      "execution_count": 1,
      "outputs": [
        {
          "output_type": "stream",
          "name": "stdout",
          "text": [
            "El archivo ya existe.\n",
            "El archivo ya existe.\n",
            "Salida del comando:\n",
            "Requirement already satisfied: pyspark in /usr/local/lib/python3.11/dist-packages (3.5.1)\n",
            "Requirement already satisfied: py4j==0.10.9.7 in /usr/local/lib/python3.11/dist-packages (from pyspark) (0.10.9.7)\n",
            "\n"
          ]
        }
      ]
    },
    {
      "cell_type": "code",
      "source": [
        "## TODO\n",
        "import pyspark\n",
        "from pyspark.sql import SparkSession, functions, window\n",
        "spark = SparkSession.builder.appName('testclip').getOrCreate()\n",
        "df_clip=spark.read.csv('CLIP.csv', header = True)\n",
        "df_santander=spark.read.csv('SANTANDER.csv', header = True)\n",
        "spark.conf.set(\"spark.sql.parquet.int96RebaseModeInWrite\", \"CORRECTED\") # opcional si se requiere en la transformación de fechas\n",
        "spark.conf.set(\"spark.sql.legacy.timeParserPolicy\", \"LEGACY\")  # opcional si se requiere en la transformación de fechas"
      ],
      "metadata": {
        "id": "WIVblDNv4EvP"
      },
      "execution_count": 2,
      "outputs": []
    },
    {
      "cell_type": "code",
      "source": [
        "from pyspark.sql.functions import *\n",
        "from pyspark.sql.functions import row_number\n",
        "from pyspark.sql.window import Window"
      ],
      "metadata": {
        "id": "6ju4u00wLZME"
      },
      "execution_count": 3,
      "outputs": []
    },
    {
      "cell_type": "code",
      "source": [
        "df_clip.show()"
      ],
      "metadata": {
        "colab": {
          "base_uri": "https://localhost:8080/"
        },
        "id": "RJ86OLsA1KZ8",
        "outputId": "1bf3886b-dec8-4a12-fd9b-4cb0cae20cda"
      },
      "execution_count": 4,
      "outputs": [
        {
          "output_type": "stream",
          "name": "stdout",
          "text": [
            "+---------------+--------------+---------+--------+-----------------+-------------------+---------------+---------------------+\n",
            "|INICIO6_TARJETA|FINAL4_TARJETA| TIPO_TRX|   MONTO|FECHA_TRANSACCION|CODIGO_AUTORIZACION|       ID_BANCO|FECHA_RECEPCION_BANCO|\n",
            "+---------------+--------------+---------+--------+-----------------+-------------------+---------------+---------------------+\n",
            "|         443715|           190|CANCELADA|21944.00|       2023-11-01|             136719| 47-100-185-686|           2023-11-05|\n",
            "|         802414|          6615|   PAGADA|   42.51|       2023-11-01|              53042| 29-607-730-901|           2023-11-02|\n",
            "|         818156|           672|NO APLICA|   20.80|       2023-11-01|               null|497-363-207-741|           2023-11-02|\n",
            "|         954015|          5581|   PAGADA|   41.00|       2023-11-01|              13616|441-622-557-487|           2023-11-02|\n",
            "|         954015|          2538|   PAGADA|   68.00|       2023-11-01|              13602|266-554-946-896|           2023-11-02|\n",
            "|         954015|          2581|   PAGADA|  144.00|       2023-11-01|              13626|106-967-585-923|           2023-11-02|\n",
            "|         818156|          8094|   PAGADA|  189.50|       2023-11-01|              53064|890-554-602-678|           2023-11-02|\n",
            "|         946891|          1670|NO APLICA|  776.60|       2023-11-01|             H37254|249-718-452-281|           2023-11-02|\n",
            "|         958758|          4254|   PAGADA|   27.54|       2023-11-01|             151121|243-262-174-009|           2023-11-02|\n",
            "|         930288|          8524|   PAGADA|   88.00|       2023-11-01|             191788|404-749-691-060|           2023-11-02|\n",
            "|         954015|          1047|   PAGADA|   47.00|       2023-11-01|              13770|261-374-561-067|           2023-11-02|\n",
            "|         908869|          3539|   PAGADA|  345.00|       2023-11-01|             05310C| 44-835-382-370|           2023-11-02|\n",
            "|         802414|          4189|   PAGADA|   51.75|       2023-11-01|              53121|849-409-797-814|           2023-11-02|\n",
            "|         922053|          5064|   PAGADA| 1188.00|       2023-11-01|              13877|417-254-390-122|           2023-11-02|\n",
            "|         975488|          3133|   PAGADA| 1850.00|       2023-11-01|                299|578-941-998-084|           2023-11-02|\n",
            "|         818156|          7249|   PAGADA|   68.25|       2023-11-01|              53176|424-830-984-311|           2023-11-02|\n",
            "|         442737|          3949|NO APLICA|  219.00|       2023-11-01|               null|759-476-096-508|           2023-11-02|\n",
            "|         954015|          3103|   PAGADA|   39.00|       2023-11-01|              14147|933-069-731-893|           2023-11-02|\n",
            "|         954015|           346|   PAGADA|  600.00|       2023-11-01|              14164|445-081-902-451|           2023-11-02|\n",
            "|         922059|          8381|   PAGADA| 1853.00|       2023-11-01|              14126|289-427-365-180|           2023-11-02|\n",
            "+---------------+--------------+---------+--------+-----------------+-------------------+---------------+---------------------+\n",
            "only showing top 20 rows\n",
            "\n"
          ]
        }
      ]
    },
    {
      "cell_type": "code",
      "source": [
        "df_santander.show()"
      ],
      "metadata": {
        "colab": {
          "base_uri": "https://localhost:8080/"
        },
        "id": "OIw26hu91SCf",
        "outputId": "ed037f1e-94c6-4092-9ff4-2f118a86b78f"
      },
      "execution_count": 5,
      "outputs": [
        {
          "output_type": "stream",
          "name": "stdout",
          "text": [
            "+------+------+--------+------+-----------------+-------------------+---------------+---------------+\n",
            "|   bin|last_4|TIPO_TRX| monto|FECHA_TRANSACCION|codigo_autorizacion| ID_ADQUIRIENTE|FECHA_RECEPCION|\n",
            "+------+------+--------+------+-----------------+-------------------+---------------+---------------+\n",
            "|954015|  0300|    PAGO|    44|       2023-11-01|             272012|320-720-237-226|     2023-03-11|\n",
            "|954015|  0300|    PAGO|    93|       2023-11-01|             216149|812-801-092-295|     2023-03-11|\n",
            "|954015|  0310|    PAGO|  1579|       2023-11-01|             898544|563-080-775-636|     2023-03-11|\n",
            "|954015|  0319|    PAGO|    86|       2023-11-01|             501928|924-685-088-703|     2023-03-11|\n",
            "|954015|  0314|    PAGO|   679|       2023-11-01|             170207| 35-452-614-774|     2023-03-11|\n",
            "|954015|  0347|    PAGO|    75|       2023-11-01|               9187|603-396-947-906|     2023-03-11|\n",
            "|954015|  0383|    PAGO|   525|       2023-11-01|              55165|    153-266-978|     2023-03-11|\n",
            "|954015|  0382|    PAGO|   150|       2023-11-01|             912471|217-691-630-619|     2023-03-11|\n",
            "|954015|  0320|    PAGO| 45.15|       2023-11-01|             440954|773-873-869-693|     2023-03-11|\n",
            "|954015|  0361|    PAGO|252.72|       2023-11-01|             990646| 23-419-715-445|     2023-03-11|\n",
            "|954015|  0378|    PAGO|    36|       2023-11-01|             137170|967-875-394-035|     2023-03-11|\n",
            "|954015|  0378|    PAGO|    74|       2023-11-01|             127811|585-606-339-849|     2023-03-11|\n",
            "|954015|  0550|    PAGO|   312|       2023-11-01|             255206|532-624-428-670|     2023-03-11|\n",
            "|954015|  0551|    PAGO|   350|       2023-11-01|             209422|286-800-830-080|     2023-03-11|\n",
            "|954015|  0559|    PAGO|   338|       2023-11-01|             503374|985-420-788-657|     2023-03-11|\n",
            "|954015|  0503|    PAGO|   250|       2023-11-01|             331151|858-711-530-615|     2023-03-11|\n",
            "|954015|  0506|    PAGO| 111.3|       2023-11-01|             828195|970-489-894-120|     2023-03-11|\n",
            "|954015|  0511|    PAGO|   440|       2023-11-01|             323908|148-809-830-486|     2023-03-11|\n",
            "|954015|  0595|    PAGO|   252|       2023-11-01|             558008|404-129-958-402|     2023-03-11|\n",
            "|954015|  0596|    PAGO| 90.72|       2023-11-01|             759399| 61-967-181-865|     2023-03-11|\n",
            "+------+------+--------+------+-----------------+-------------------+---------------+---------------+\n",
            "only showing top 20 rows\n",
            "\n"
          ]
        }
      ]
    },
    {
      "cell_type": "code",
      "source": [
        "#Conteo inicial de registros\n",
        "print(df_clip.count())\n",
        "print(df_santander.count())"
      ],
      "metadata": {
        "colab": {
          "base_uri": "https://localhost:8080/"
        },
        "id": "cbJypiml9t3i",
        "outputId": "ed9e93f7-ec47-4e3f-cb03-7b10212e1a6b"
      },
      "execution_count": 6,
      "outputs": [
        {
          "output_type": "stream",
          "name": "stdout",
          "text": [
            "163549\n",
            "132398\n"
          ]
        }
      ]
    },
    {
      "cell_type": "markdown",
      "source": [
        "#Calidad de datos\n",
        "## Valores nulos"
      ],
      "metadata": {
        "id": "aZvf30SfwLxb"
      }
    },
    {
      "cell_type": "code",
      "source": [
        "def count_nulls(df):\n",
        "    return df.select([count(when(col(c).isNull(), c)).alias(c) for c in df.columns])\n",
        "\n",
        "print(\"Nulos en df_clip:\")\n",
        "count_nulls(df_clip).show()\n",
        "\n",
        "print(\"Nulos en df_santander:\")\n",
        "count_nulls(df_santander).show()"
      ],
      "metadata": {
        "colab": {
          "base_uri": "https://localhost:8080/"
        },
        "id": "Uee0L_dFu0fJ",
        "outputId": "5f344c06-9eab-4619-de5c-a3b429c7b9be"
      },
      "execution_count": 7,
      "outputs": [
        {
          "output_type": "stream",
          "name": "stdout",
          "text": [
            "Nulos en df_clip:\n",
            "+---------------+--------------+--------+-----+-----------------+-------------------+--------+---------------------+\n",
            "|INICIO6_TARJETA|FINAL4_TARJETA|TIPO_TRX|MONTO|FECHA_TRANSACCION|CODIGO_AUTORIZACION|ID_BANCO|FECHA_RECEPCION_BANCO|\n",
            "+---------------+--------------+--------+-----+-----------------+-------------------+--------+---------------------+\n",
            "|              0|             0|       0|    0|                0|                  0|       0|                    0|\n",
            "+---------------+--------------+--------+-----+-----------------+-------------------+--------+---------------------+\n",
            "\n",
            "Nulos en df_santander:\n",
            "+---+------+--------+-----+-----------------+-------------------+--------------+---------------+\n",
            "|bin|last_4|TIPO_TRX|monto|FECHA_TRANSACCION|codigo_autorizacion|ID_ADQUIRIENTE|FECHA_RECEPCION|\n",
            "+---+------+--------+-----+-----------------+-------------------+--------------+---------------+\n",
            "|  0|     0|       0|    0|                0|                  0|             0|              0|\n",
            "+---+------+--------+-----+-----------------+-------------------+--------------+---------------+\n",
            "\n"
          ]
        }
      ]
    },
    {
      "cell_type": "markdown",
      "source": [
        "###Identificación de valores nulos como strings en campos clave\n",
        "Aunque hay una precencia considerable de datos nulos como strings, por el momento no se hará un tratamiento ya que no obtaculiza las actividades posteriores de la conciliación, pues nos enfocaremos en  transacciones cuyo estado  sea **PAGADA**"
      ],
      "metadata": {
        "id": "a1rdN2dvLWpw"
      }
    },
    {
      "cell_type": "code",
      "source": [
        "# Filter the DataFrame and assign it to df_clip_null\n",
        "df_clip_null = df_clip.filter(\n",
        "    col(\"ID_BANCO\").isin(\"null\") | col(\"INICIO6_TARJETA\").isin(\"null\") | col(\"FINAL4_TARJETA\").isin(\"null\")\n",
        ")\n",
        "\n",
        "\n",
        "df_clip_null.show(50)\n"
      ],
      "metadata": {
        "colab": {
          "base_uri": "https://localhost:8080/"
        },
        "id": "YY852lT9HqY8",
        "outputId": "f87330c1-5495-4396-f0d0-b3bcfdd81f1a"
      },
      "execution_count": 8,
      "outputs": [
        {
          "output_type": "stream",
          "name": "stdout",
          "text": [
            "+---------------+--------------+---------+------+-----------------+-------------------+--------+---------------------+\n",
            "|INICIO6_TARJETA|FINAL4_TARJETA| TIPO_TRX| MONTO|FECHA_TRANSACCION|CODIGO_AUTORIZACION|ID_BANCO|FECHA_RECEPCION_BANCO|\n",
            "+---------------+--------------+---------+------+-----------------+-------------------+--------+---------------------+\n",
            "|           null|          9630|NO APLICA|500.00|       2023-11-01|               null|    null|           2023-11-02|\n",
            "|           null|          9630|NO APLICA|500.00|       2023-11-01|               null|    null|           2023-11-02|\n",
            "|         818156|          9664|NO APLICA| 66.00|       2023-11-01|               null|    null|           2023-11-02|\n",
            "|           null|          1332|NO APLICA| 12.12|       2023-11-01|               null|    null|           2023-11-02|\n",
            "|           null|          1332|NO APLICA| 12.12|       2023-11-01|               null|    null|           2023-11-02|\n",
            "|         975488|          7134|NO APLICA| 32.50|       2023-11-01|               null|    null|           2023-11-02|\n",
            "|         445432|          7287|NO APLICA|176.00|       2023-11-01|               null|    null|           2023-11-02|\n",
            "|         446138|          3602|NO APLICA|135.50|       2023-11-01|               null|    null|           2023-11-02|\n",
            "|         438005|          9817|NO APLICA|100.08|       2023-11-01|               null|    null|           2023-11-02|\n",
            "|         408222|          1360|NO APLICA|805.00|       2023-11-01|             582367|    null|           2023-11-02|\n",
            "|         497516|          8207|NO APLICA|120.00|       2023-11-01|               null|    null|           2023-11-02|\n",
            "|           null|          6291|NO APLICA|282.00|       2023-11-01|               null|    null|           2023-11-02|\n",
            "|         408149|          6443|NO APLICA|245.00|       2023-11-01|               null|    null|           2023-11-01|\n",
            "|         957605|          1305|NO APLICA|853.00|       2023-11-01|               null|    null|           2023-11-01|\n",
            "|         908632|          2008|NO APLICA| 55.00|       2023-11-01|               null|    null|           2023-11-01|\n",
            "|           null|           145|NO APLICA|100.00|       2023-11-01|               null|    null|           2023-11-01|\n",
            "+---------------+--------------+---------+------+-----------------+-------------------+--------+---------------------+\n",
            "\n"
          ]
        }
      ]
    },
    {
      "cell_type": "code",
      "source": [
        "\n",
        "# Conteo\n",
        "print(df_clip_null.count())"
      ],
      "metadata": {
        "colab": {
          "base_uri": "https://localhost:8080/"
        },
        "id": "EpVhVA2nbTxE",
        "outputId": "80d72020-cc56-42e2-a1db-30b5f4d1decf"
      },
      "execution_count": 12,
      "outputs": [
        {
          "output_type": "stream",
          "name": "stdout",
          "text": [
            "16\n"
          ]
        }
      ]
    },
    {
      "cell_type": "code",
      "source": [
        "df_santander.filter(\n",
        "    col(\"bin\").isin(\"null\") | col(\"last_4\").isin(\"null\") |col(\"ID_ADQUIRIENTE\").isin(\"null\")\n",
        ").show()"
      ],
      "metadata": {
        "colab": {
          "base_uri": "https://localhost:8080/"
        },
        "id": "VFcRyM65JNXS",
        "outputId": "3bb5e633-44f7-4761-a7ba-f05a4f8575fc"
      },
      "execution_count": 10,
      "outputs": [
        {
          "output_type": "stream",
          "name": "stdout",
          "text": [
            "+---+------+--------+-----+-----------------+-------------------+--------------+---------------+\n",
            "|bin|last_4|TIPO_TRX|monto|FECHA_TRANSACCION|codigo_autorizacion|ID_ADQUIRIENTE|FECHA_RECEPCION|\n",
            "+---+------+--------+-----+-----------------+-------------------+--------------+---------------+\n",
            "+---+------+--------+-----+-----------------+-------------------+--------------+---------------+\n",
            "\n"
          ]
        }
      ]
    },
    {
      "cell_type": "code",
      "source": [
        "#Ver tipos de datos\n",
        "df_clip.printSchema()\n",
        "df_santander.printSchema()"
      ],
      "metadata": {
        "colab": {
          "base_uri": "https://localhost:8080/"
        },
        "id": "UhyPaEMWIaKm",
        "outputId": "8b4b74db-8390-4e15-d165-bc2e2eded3c0"
      },
      "execution_count": 11,
      "outputs": [
        {
          "output_type": "stream",
          "name": "stdout",
          "text": [
            "root\n",
            " |-- INICIO6_TARJETA: string (nullable = true)\n",
            " |-- FINAL4_TARJETA: string (nullable = true)\n",
            " |-- TIPO_TRX: string (nullable = true)\n",
            " |-- MONTO: string (nullable = true)\n",
            " |-- FECHA_TRANSACCION: string (nullable = true)\n",
            " |-- CODIGO_AUTORIZACION: string (nullable = true)\n",
            " |-- ID_BANCO: string (nullable = true)\n",
            " |-- FECHA_RECEPCION_BANCO: string (nullable = true)\n",
            "\n",
            "root\n",
            " |-- bin: string (nullable = true)\n",
            " |-- last_4: string (nullable = true)\n",
            " |-- TIPO_TRX: string (nullable = true)\n",
            " |-- monto: string (nullable = true)\n",
            " |-- FECHA_TRANSACCION: string (nullable = true)\n",
            " |-- codigo_autorizacion: string (nullable = true)\n",
            " |-- ID_ADQUIRIENTE: string (nullable = true)\n",
            " |-- FECHA_RECEPCION: string (nullable = true)\n",
            "\n"
          ]
        }
      ]
    },
    {
      "cell_type": "code",
      "source": [
        "df_santander = (\n",
        "    spark.read.option(\"header\", True).csv(\"SANTANDER.csv\")\n",
        "        .withColumnRenamed(\"bin\",           \"BIN_6\")\n",
        "        .withColumnRenamed(\"last_4\",        \"LAST4\")\n",
        "        .withColumnRenamed(\"TIPO_TRX\",      \"TIPO_TRX\")\n",
        "        .withColumnRenamed(\"monto\",         \"MONTO\")\n",
        "        .withColumnRenamed(\"FECHA_TRANSACCION\", \"FECHA_TRANSACCION\")\n",
        "        .withColumnRenamed(\"codigo_autorizacion\", \"CODIGO_AUTORIZACION\")\n",
        "        .withColumnRenamed(\"ID_ADQUIRIENTE\", \"ID_BANCO\")\n",
        "        .withColumnRenamed(\"FECHA_RECEPCION\", \"FECHA_RECEPCION_BANCO\")\n",
        "        .withColumn(\"MONTO\",  col(\"MONTO\").cast(\"double\"))\n",
        "        .withColumn(\"FECHA_TRANSACCION\", to_date(\"FECHA_TRANSACCION\"))\n",
        ")\n",
        "\n",
        "\n",
        "(\n",
        "    df_clip.write\n",
        "    .mode(\"overwrite\")\n",
        "    .option(\"header\", True)\n",
        "    .csv(\"output/clip_limpio\")\n",
        ")\n",
        "\n",
        "(\n",
        "    df_santander.write\n",
        "    .mode(\"overwrite\")\n",
        "    .option(\"header\", True)\n",
        "    .csv(\"output/santander_limpio\")\n",
        ")\n",
        "\n",
        "print(\"Columnas CLIP  ➜\", df_clip.columns)\n",
        "print(\"Columnas SANT. ➜\", df_santander.columns)"
      ],
      "metadata": {
        "colab": {
          "base_uri": "https://localhost:8080/"
        },
        "id": "LspxXLiPrPxE",
        "outputId": "62dd9ecc-61c6-4780-ad7a-7d798260673d"
      },
      "execution_count": 13,
      "outputs": [
        {
          "output_type": "stream",
          "name": "stdout",
          "text": [
            "Columnas CLIP  ➜ ['INICIO6_TARJETA', 'FINAL4_TARJETA', 'TIPO_TRX', 'MONTO', 'FECHA_TRANSACCION', 'CODIGO_AUTORIZACION', 'ID_BANCO', 'FECHA_RECEPCION_BANCO']\n",
            "Columnas SANT. ➜ ['BIN_6', 'LAST4', 'TIPO_TRX', 'MONTO', 'FECHA_TRANSACCION', 'CODIGO_AUTORIZACION', 'ID_BANCO', 'FECHA_RECEPCION_BANCO']\n"
          ]
        }
      ]
    },
    {
      "cell_type": "code",
      "source": [
        "df_santander.show()"
      ],
      "metadata": {
        "colab": {
          "base_uri": "https://localhost:8080/"
        },
        "id": "NyZvs0XJ6JdX",
        "outputId": "89242e60-0e65-47b5-90e6-41fd436d5d0d"
      },
      "execution_count": 14,
      "outputs": [
        {
          "output_type": "stream",
          "name": "stdout",
          "text": [
            "+------+-----+--------+------+-----------------+-------------------+---------------+---------------------+\n",
            "| BIN_6|LAST4|TIPO_TRX| MONTO|FECHA_TRANSACCION|CODIGO_AUTORIZACION|       ID_BANCO|FECHA_RECEPCION_BANCO|\n",
            "+------+-----+--------+------+-----------------+-------------------+---------------+---------------------+\n",
            "|954015| 0300|    PAGO|  44.0|       2023-11-01|             272012|320-720-237-226|           2023-03-11|\n",
            "|954015| 0300|    PAGO|  93.0|       2023-11-01|             216149|812-801-092-295|           2023-03-11|\n",
            "|954015| 0310|    PAGO|1579.0|       2023-11-01|             898544|563-080-775-636|           2023-03-11|\n",
            "|954015| 0319|    PAGO|  86.0|       2023-11-01|             501928|924-685-088-703|           2023-03-11|\n",
            "|954015| 0314|    PAGO| 679.0|       2023-11-01|             170207| 35-452-614-774|           2023-03-11|\n",
            "|954015| 0347|    PAGO|  75.0|       2023-11-01|               9187|603-396-947-906|           2023-03-11|\n",
            "|954015| 0383|    PAGO| 525.0|       2023-11-01|              55165|    153-266-978|           2023-03-11|\n",
            "|954015| 0382|    PAGO| 150.0|       2023-11-01|             912471|217-691-630-619|           2023-03-11|\n",
            "|954015| 0320|    PAGO| 45.15|       2023-11-01|             440954|773-873-869-693|           2023-03-11|\n",
            "|954015| 0361|    PAGO|252.72|       2023-11-01|             990646| 23-419-715-445|           2023-03-11|\n",
            "|954015| 0378|    PAGO|  36.0|       2023-11-01|             137170|967-875-394-035|           2023-03-11|\n",
            "|954015| 0378|    PAGO|  74.0|       2023-11-01|             127811|585-606-339-849|           2023-03-11|\n",
            "|954015| 0550|    PAGO| 312.0|       2023-11-01|             255206|532-624-428-670|           2023-03-11|\n",
            "|954015| 0551|    PAGO| 350.0|       2023-11-01|             209422|286-800-830-080|           2023-03-11|\n",
            "|954015| 0559|    PAGO| 338.0|       2023-11-01|             503374|985-420-788-657|           2023-03-11|\n",
            "|954015| 0503|    PAGO| 250.0|       2023-11-01|             331151|858-711-530-615|           2023-03-11|\n",
            "|954015| 0506|    PAGO| 111.3|       2023-11-01|             828195|970-489-894-120|           2023-03-11|\n",
            "|954015| 0511|    PAGO| 440.0|       2023-11-01|             323908|148-809-830-486|           2023-03-11|\n",
            "|954015| 0595|    PAGO| 252.0|       2023-11-01|             558008|404-129-958-402|           2023-03-11|\n",
            "|954015| 0596|    PAGO| 90.72|       2023-11-01|             759399| 61-967-181-865|           2023-03-11|\n",
            "+------+-----+--------+------+-----------------+-------------------+---------------+---------------------+\n",
            "only showing top 20 rows\n",
            "\n"
          ]
        }
      ]
    },
    {
      "cell_type": "code",
      "source": [
        "df_clip.show()"
      ],
      "metadata": {
        "colab": {
          "base_uri": "https://localhost:8080/"
        },
        "id": "xLDr9k928ywS",
        "outputId": "3e823770-266d-4118-a108-fe590ec023af"
      },
      "execution_count": 15,
      "outputs": [
        {
          "output_type": "stream",
          "name": "stdout",
          "text": [
            "+---------------+--------------+---------+--------+-----------------+-------------------+---------------+---------------------+\n",
            "|INICIO6_TARJETA|FINAL4_TARJETA| TIPO_TRX|   MONTO|FECHA_TRANSACCION|CODIGO_AUTORIZACION|       ID_BANCO|FECHA_RECEPCION_BANCO|\n",
            "+---------------+--------------+---------+--------+-----------------+-------------------+---------------+---------------------+\n",
            "|         443715|           190|CANCELADA|21944.00|       2023-11-01|             136719| 47-100-185-686|           2023-11-05|\n",
            "|         802414|          6615|   PAGADA|   42.51|       2023-11-01|              53042| 29-607-730-901|           2023-11-02|\n",
            "|         818156|           672|NO APLICA|   20.80|       2023-11-01|               null|497-363-207-741|           2023-11-02|\n",
            "|         954015|          5581|   PAGADA|   41.00|       2023-11-01|              13616|441-622-557-487|           2023-11-02|\n",
            "|         954015|          2538|   PAGADA|   68.00|       2023-11-01|              13602|266-554-946-896|           2023-11-02|\n",
            "|         954015|          2581|   PAGADA|  144.00|       2023-11-01|              13626|106-967-585-923|           2023-11-02|\n",
            "|         818156|          8094|   PAGADA|  189.50|       2023-11-01|              53064|890-554-602-678|           2023-11-02|\n",
            "|         946891|          1670|NO APLICA|  776.60|       2023-11-01|             H37254|249-718-452-281|           2023-11-02|\n",
            "|         958758|          4254|   PAGADA|   27.54|       2023-11-01|             151121|243-262-174-009|           2023-11-02|\n",
            "|         930288|          8524|   PAGADA|   88.00|       2023-11-01|             191788|404-749-691-060|           2023-11-02|\n",
            "|         954015|          1047|   PAGADA|   47.00|       2023-11-01|              13770|261-374-561-067|           2023-11-02|\n",
            "|         908869|          3539|   PAGADA|  345.00|       2023-11-01|             05310C| 44-835-382-370|           2023-11-02|\n",
            "|         802414|          4189|   PAGADA|   51.75|       2023-11-01|              53121|849-409-797-814|           2023-11-02|\n",
            "|         922053|          5064|   PAGADA| 1188.00|       2023-11-01|              13877|417-254-390-122|           2023-11-02|\n",
            "|         975488|          3133|   PAGADA| 1850.00|       2023-11-01|                299|578-941-998-084|           2023-11-02|\n",
            "|         818156|          7249|   PAGADA|   68.25|       2023-11-01|              53176|424-830-984-311|           2023-11-02|\n",
            "|         442737|          3949|NO APLICA|  219.00|       2023-11-01|               null|759-476-096-508|           2023-11-02|\n",
            "|         954015|          3103|   PAGADA|   39.00|       2023-11-01|              14147|933-069-731-893|           2023-11-02|\n",
            "|         954015|           346|   PAGADA|  600.00|       2023-11-01|              14164|445-081-902-451|           2023-11-02|\n",
            "|         922059|          8381|   PAGADA| 1853.00|       2023-11-01|              14126|289-427-365-180|           2023-11-02|\n",
            "+---------------+--------------+---------+--------+-----------------+-------------------+---------------+---------------------+\n",
            "only showing top 20 rows\n",
            "\n"
          ]
        }
      ]
    },
    {
      "cell_type": "markdown",
      "source": [
        "##Tratamiento de datos  duplicados"
      ],
      "metadata": {
        "id": "JbnCWkLrwgB2"
      }
    },
    {
      "cell_type": "code",
      "source": [
        "key_cols_clip = [\"ID_BANCO\", \"INICIO6_TARJETA\", \"FINAL4_TARJETA\", \"FECHA_TRANSACCION\", \"MONTO\"]\n",
        "key_cols_santander = [\"ID_BANCO\", \"BIN_6\", \"LAST4\", \"FECHA_TRANSACCION\", \"MONTO\"]\n",
        "\n",
        "w_dup_b = Window.partitionBy(*key_cols_clip).orderBy(col('FECHA_TRANSACCION'))\n",
        "clip_unique = df_clip.withColumn('rn', row_number().over(w_dup_b)).filter('rn = 1').drop('rn')\n",
        "clip_duplicates = df_clip.withColumn('rn', row_number().over(w_dup_b)).filter('rn > 1').drop('rn')\n",
        "\n",
        "\n",
        "w_dup = Window.partitionBy(*key_cols_santander).orderBy(col('FECHA_TRANSACCION'))\n",
        "\n",
        "santander_unique = df_santander.withColumn('rn', row_number().over(w_dup)).filter('rn = 1').drop('rn')\n",
        "\n",
        "santander_duplicates = df_santander.withColumn('rn', row_number().over(w_dup)).filter('rn > 1').drop('rn')\n",
        "\n",
        "print(\"Duplicados en df_clip:\")\n",
        "clip_duplicates.show()\n",
        "\n",
        "print(\"Duplicados en df_santander:\")\n",
        "santander_duplicates.show()"
      ],
      "metadata": {
        "colab": {
          "base_uri": "https://localhost:8080/"
        },
        "id": "8S-t_lBQwear",
        "outputId": "dfe5c156-3ca9-4e4b-94eb-42cd044a2615"
      },
      "execution_count": 16,
      "outputs": [
        {
          "output_type": "stream",
          "name": "stdout",
          "text": [
            "Duplicados en df_clip:\n",
            "+---------------+--------------+---------+--------+-----------------+-------------------+---------------+---------------------+\n",
            "|INICIO6_TARJETA|FINAL4_TARJETA| TIPO_TRX|   MONTO|FECHA_TRANSACCION|CODIGO_AUTORIZACION|       ID_BANCO|FECHA_RECEPCION_BANCO|\n",
            "+---------------+--------------+---------+--------+-----------------+-------------------+---------------+---------------------+\n",
            "|         975199|          2574|NO APLICA|  205.00|       2023-11-01|             916499|142-794-834-689|           2023-11-01|\n",
            "|         443715|           190|   PAGADA|21944.00|       2023-11-01|             136719| 47-100-185-686|           2023-11-02|\n",
            "|         944439|          3027|   PAGADA| 7300.00|       2023-11-01|             452762|550-902-856-935|           2023-11-01|\n",
            "|         928869|          8072|CANCELADA|   20.00|       2023-11-01|               8677|632-954-196-335|           2023-11-03|\n",
            "|         442732|          4189|NO APLICA| 1390.00|       2023-11-01|               null|  8-169-971-438|           2023-11-01|\n",
            "|           null|          9630|NO APLICA|  500.00|       2023-11-01|               null|           null|           2023-11-02|\n",
            "|         975488|          8172|   PAGADA|  300.00|       2023-11-01|               1028|494-361-426-825|           2023-11-01|\n",
            "|         922075|          4913|CANCELADA|  373.36|       2023-11-01|             100994|778-542-610-928|           2023-11-03|\n",
            "|         818156|          6197|NO APLICA|  101.60|       2023-11-01|               null|799-194-419-354|           2023-11-01|\n",
            "|         954015|          2015|CANCELADA|  140.00|       2023-11-01|             865124|807-040-230-194|           2023-11-03|\n",
            "|         961313|          7684|NO APLICA|  110.00|       2023-11-01|               null|957-463-704-427|           2023-11-01|\n",
            "|           null|          1332|NO APLICA|   12.12|       2023-11-01|               null|           null|           2023-11-02|\n",
            "+---------------+--------------+---------+--------+-----------------+-------------------+---------------+---------------------+\n",
            "\n",
            "Duplicados en df_santander:\n",
            "+------+-----+--------+-----+-----------------+-------------------+---------------+---------------------+\n",
            "| BIN_6|LAST4|TIPO_TRX|MONTO|FECHA_TRANSACCION|CODIGO_AUTORIZACION|       ID_BANCO|FECHA_RECEPCION_BANCO|\n",
            "+------+-----+--------+-----+-----------------+-------------------+---------------+---------------------+\n",
            "|445016| 4208|    PAGO| 75.5|       2023-11-01|             489428|235-180-534-040|           2023-03-11|\n",
            "|445016| 4208|    PAGO| 40.0|       2023-11-01|              92523| 55-348-201-925|           2023-03-11|\n",
            "+------+-----+--------+-----+-----------------+-------------------+---------------+---------------------+\n",
            "\n"
          ]
        }
      ]
    },
    {
      "cell_type": "code",
      "source": [
        "#Conteo de datos después de tratamiento\n",
        "print(santander_unique.count())\n",
        "print(clip_unique.count())"
      ],
      "metadata": {
        "colab": {
          "base_uri": "https://localhost:8080/"
        },
        "id": "pzGd6odOY0Fj",
        "outputId": "09191ab2-6456-4781-a80f-23726afaa684"
      },
      "execution_count": 17,
      "outputs": [
        {
          "output_type": "stream",
          "name": "stdout",
          "text": [
            "132396\n",
            "163537\n"
          ]
        }
      ]
    },
    {
      "cell_type": "markdown",
      "source": [
        "#Filtro de transacciones pagadas\n"
      ],
      "metadata": {
        "id": "w9etxCYvNDD6"
      }
    },
    {
      "cell_type": "code",
      "source": [
        "df_clip_pago = clip_unique.filter(col(\"TIPO_TRX\") == \"PAGADA\")\n",
        "\n",
        "# Filtrar df_santander donde TIPO_TRX = 'PAGO'\n",
        "df_santander_pago = santander_unique.filter(col(\"TIPO_TRX\") == \"PAGO\")\n",
        "\n",
        "# Para ver un muestreo\n",
        "df_clip_pago.show()\n",
        "df_santander_pago.show()"
      ],
      "metadata": {
        "colab": {
          "base_uri": "https://localhost:8080/"
        },
        "id": "-2EqbIIFNJIi",
        "outputId": "f189b22e-faf1-4d01-89b2-ab4edc5d3009"
      },
      "execution_count": 18,
      "outputs": [
        {
          "output_type": "stream",
          "name": "stdout",
          "text": [
            "+---------------+--------------+--------+-------+-----------------+-------------------+-------------+---------------------+\n",
            "|INICIO6_TARJETA|FINAL4_TARJETA|TIPO_TRX|  MONTO|FECHA_TRANSACCION|CODIGO_AUTORIZACION|     ID_BANCO|FECHA_RECEPCION_BANCO|\n",
            "+---------------+--------------+--------+-------+-----------------+-------------------+-------------+---------------------+\n",
            "|         452027|          8225|  PAGADA| 297.00|       2023-11-01|              85385|1-000-719-344|           2023-11-01|\n",
            "|         930288|          8784|  PAGADA| 609.00|       2023-11-01|              60503|1-006-477-580|           2023-11-01|\n",
            "|         975488|          8840|  PAGADA| 580.00|       2023-11-01|               1178|1-006-920-138|           2023-11-02|\n",
            "|         984606|          2643|  PAGADA| 416.00|       2023-11-01|             918235|1-048-327-016|           2023-11-02|\n",
            "|         449289|          4444|  PAGADA|1000.00|       2023-11-01|               1753|1-068-687-103|           2023-11-02|\n",
            "|         954015|          5353|  PAGADA|  76.00|       2023-11-01|             674401|1-097-066-064|           2023-11-01|\n",
            "|         975199|          7422|  PAGADA| 679.00|       2023-11-01|             629793|1-111-401-104|           2023-11-02|\n",
            "|         818156|          5698|  PAGADA| 122.00|       2023-11-01|             920810|1-116-792-114|           2023-11-01|\n",
            "|         442703|           913|  PAGADA| 129.00|       2023-11-01|             801012|1-141-893-958|           2023-11-02|\n",
            "|         905158|           879|  PAGADA| 392.00|       2023-11-01|              36221|1-170-049-613|           2023-11-01|\n",
            "|         940905|          4741|  PAGADA| 283.00|       2023-11-01|             345561|1-197-734-262|           2023-11-01|\n",
            "|         442753|          4368|  PAGADA|  77.00|       2023-11-01|                 78|1-207-556-924|           2023-11-01|\n",
            "|         442753|          6747|  PAGADA| 135.50|       2023-11-01|              55190|1-210-718-304|           2023-11-02|\n",
            "|         442753|          6519|  PAGADA| 199.00|       2023-11-01|               4996|1-210-894-121|           2023-11-02|\n",
            "|         954015|          8461|  PAGADA|  58.00|       2023-11-01|               9669|1-215-204-966|           2023-11-02|\n",
            "|         952697|          4298|  PAGADA| 433.00|       2023-11-01|              62245|1-219-420-541|           2023-11-01|\n",
            "|         818156|          9941|  PAGADA|  42.00|       2023-11-01|             978600|1-236-417-013|           2023-11-01|\n",
            "|         975488|          8252|  PAGADA|  75.00|       2023-11-01|                 14|1-242-674-605|           2023-11-02|\n",
            "|         975488|          4531|  PAGADA| 110.00|       2023-11-01|                  7|1-257-671-998|           2023-11-01|\n",
            "|         445432|          9745|  PAGADA|3100.00|       2023-11-01|              30770|1-261-326-308|           2023-11-01|\n",
            "+---------------+--------------+--------+-------+-----------------+-------------------+-------------+---------------------+\n",
            "only showing top 20 rows\n",
            "\n",
            "+------+-----+--------+------+-----------------+-------------------+-------------+---------------------+\n",
            "| BIN_6|LAST4|TIPO_TRX| MONTO|FECHA_TRANSACCION|CODIGO_AUTORIZACION|     ID_BANCO|FECHA_RECEPCION_BANCO|\n",
            "+------+-----+--------+------+-----------------+-------------------+-------------+---------------------+\n",
            "|818156| 1326|    PAGO| 144.0|       2023-11-01|             760621|1-000-106-896|           2023-03-11|\n",
            "|948795| 6616|    PAGO| 100.0|       2023-11-01|             496514|1-018-559-553|           2023-03-11|\n",
            "|802414| 8188|    PAGO| 101.0|       2023-11-01|             802099|1-059-143-185|           2023-03-11|\n",
            "|449289| 4444|    PAGO|1000.0|       2023-11-01|               1753|1-068-687-103|           2023-03-11|\n",
            "|403958| 5270|    PAGO| 235.0|       2023-11-01|              11324|1-107-040-587|           2023-03-11|\n",
            "|975199| 7422|    PAGO| 679.0|       2023-11-01|             629793|1-111-401-104|           2023-03-11|\n",
            "|442703| 0913|    PAGO| 129.0|       2023-11-01|             801012|1-141-893-958|           2023-03-11|\n",
            "|438005| 3095|    PAGO| 375.0|       2023-11-01|             747458|1-148-216-365|           2023-03-11|\n",
            "|490321| 7559|    PAGO| 999.0|       2023-11-01|             391543|1-165-102-629|           2023-03-11|\n",
            "|975488| 5382|    PAGO|  70.0|       2023-11-01|                580|1-191-428-737|           2023-03-11|\n",
            "|406645| 0136|    PAGO|  77.0|       2023-11-01|             697559|1-213-657-642|           2023-03-11|\n",
            "|954015| 8461|    PAGO|  58.0|       2023-11-01|               9669|1-215-204-966|           2023-03-11|\n",
            "|442753| 4683|    PAGO| 263.0|       2023-11-01|              51053|1-233-965-179|           2023-03-11|\n",
            "|930288| 3894|    PAGO| 133.0|       2023-11-01|             209358|1-275-915-395|           2023-03-11|\n",
            "|975488| 8821|    PAGO|  61.0|       2023-11-01|                533|1-309-749-214|           2023-03-11|\n",
            "|956706| 9133|    PAGO| 200.0|       2023-11-01|               2357|1-399-095-877|           2023-03-11|\n",
            "|419708| 9790|    PAGO| 385.5|       2023-11-01|             630589|1-442-427-437|           2023-03-11|\n",
            "|802414| 0754|    PAGO| 134.0|       2023-11-01|             457275|1-499-934-348|           2023-03-11|\n",
            "|954015| 4764|    PAGO| 200.0|       2023-11-01|             254591|1-514-659-889|           2023-03-11|\n",
            "|497797| 0582|    PAGO| 999.0|       2023-11-01|             120723|1-516-301-140|           2023-03-11|\n",
            "+------+-----+--------+------+-----------------+-------------------+-------------+---------------------+\n",
            "only showing top 20 rows\n",
            "\n"
          ]
        }
      ]
    },
    {
      "cell_type": "code",
      "source": [
        "#Contar numero de filas\n",
        "print(df_clip_pago.count())\n",
        "print(df_santander_pago.count())"
      ],
      "metadata": {
        "colab": {
          "base_uri": "https://localhost:8080/"
        },
        "id": "txGUmtnJP53F",
        "outputId": "d30c10c9-8c55-4148-9762-0f74830dd157"
      },
      "execution_count": 19,
      "outputs": [
        {
          "output_type": "stream",
          "name": "stdout",
          "text": [
            "147328\n",
            "132338\n"
          ]
        }
      ]
    },
    {
      "cell_type": "markdown",
      "source": [
        "#Filtro de transacciones que no conforman pagos"
      ],
      "metadata": {
        "id": "FuVD4P2BPdBo"
      }
    },
    {
      "cell_type": "code",
      "source": [
        "\n",
        "df_clip_no_pago = df_clip.filter(col(\"TIPO_TRX\") != \"PAGADA\")\n",
        "\n",
        "\n",
        "df_santander_no_pago = df_santander.filter(col(\"TIPO_TRX\") != \"PAGO\")\n",
        "\n",
        "\n",
        "df_clip_no_pago.show()\n",
        "df_santander_no_pago.show()"
      ],
      "metadata": {
        "colab": {
          "base_uri": "https://localhost:8080/"
        },
        "id": "QI9w5z_3PGGX",
        "outputId": "d4c09e35-7821-4185-e024-1195e36528de"
      },
      "execution_count": 20,
      "outputs": [
        {
          "output_type": "stream",
          "name": "stdout",
          "text": [
            "+---------------+--------------+---------+--------+-----------------+-------------------+---------------+---------------------+\n",
            "|INICIO6_TARJETA|FINAL4_TARJETA| TIPO_TRX|   MONTO|FECHA_TRANSACCION|CODIGO_AUTORIZACION|       ID_BANCO|FECHA_RECEPCION_BANCO|\n",
            "+---------------+--------------+---------+--------+-----------------+-------------------+---------------+---------------------+\n",
            "|         443715|           190|CANCELADA|21944.00|       2023-11-01|             136719| 47-100-185-686|           2023-11-05|\n",
            "|         818156|           672|NO APLICA|   20.80|       2023-11-01|               null|497-363-207-741|           2023-11-02|\n",
            "|         946891|          1670|NO APLICA|  776.60|       2023-11-01|             H37254|249-718-452-281|           2023-11-02|\n",
            "|         442737|          3949|NO APLICA|  219.00|       2023-11-01|               null|759-476-096-508|           2023-11-02|\n",
            "|         802156|           155|NO APLICA|   63.50|       2023-11-01|               null|200-927-832-435|           2023-11-02|\n",
            "|         442737|          3949|NO APLICA|  219.00|       2023-11-01|               null|643-718-704-856|           2023-11-02|\n",
            "|         817969|           736|NO APLICA|    5.00|       2023-11-01|               null|413-795-665-345|           2023-11-02|\n",
            "|         802414|          9373|NO APLICA|  204.00|       2023-11-01|               null|735-697-048-870|           2023-11-02|\n",
            "|         445432|          9425|NO APLICA|   23.10|       2023-11-01|               null|911-302-433-968|           2023-11-02|\n",
            "|         975199|          8320|NO APLICA|  200.00|       2023-11-01|              53446|799-827-963-687|           2023-11-02|\n",
            "|         975199|          8584|NO APLICA|  206.00|       2023-11-01|              53457|653-934-879-794|           2023-11-02|\n",
            "|         818156|          2403|NO APLICA|  515.00|       2023-11-01|              53457|564-746-788-056|           2023-11-02|\n",
            "|         818156|           672|NO APLICA|   20.80|       2023-11-01|               null|362-269-471-342|           2023-11-02|\n",
            "|         442737|          3949|NO APLICA|  219.00|       2023-11-01|               null|487-346-894-802|           2023-11-02|\n",
            "|         958758|          3520|NO APLICA|  150.00|       2023-11-01|               null|755-253-288-674|           2023-11-02|\n",
            "|         802414|          7165|NO APLICA|   58.00|       2023-11-01|              53615|998-042-575-196|           2023-11-02|\n",
            "|         438994|          1653|NO APLICA| 1225.00|       2023-11-01|               null|470-514-244-678|           2023-11-02|\n",
            "|         954015|          2752|NO APLICA|  100.00|       2023-11-01|               null|213-788-473-430|           2023-11-02|\n",
            "|         438907|          4074|NO APLICA|  100.00|       2023-11-01|               null|170-927-626-360|           2023-11-02|\n",
            "|         947849|          7775|NO APLICA|  593.00|       2023-11-01|               null|924-194-225-891|           2023-11-02|\n",
            "+---------------+--------------+---------+--------+-----------------+-------------------+---------------+---------------------+\n",
            "only showing top 20 rows\n",
            "\n",
            "+------+-----+-----------+--------+-----------------+-------------------+---------------+---------------------+\n",
            "| BIN_6|LAST4|   TIPO_TRX|   MONTO|FECHA_TRANSACCION|CODIGO_AUTORIZACION|       ID_BANCO|FECHA_RECEPCION_BANCO|\n",
            "+------+-----+-----------+--------+-----------------+-------------------+---------------+---------------------+\n",
            "|954015| 9398|CANCELACION|  -360.0|       2023-11-01|             996500|436-457-642-211|           2023-03-11|\n",
            "|958758| 0001|CANCELACION|   -53.0|       2023-11-01|             421964|963-438-663-374|           2023-03-11|\n",
            "|975199| 7922|CANCELACION|  -269.0|       2023-11-01|             727680| 37-349-397-823|           2023-03-11|\n",
            "|971521| 9708|CANCELACION|  -140.0|       2023-11-01|               3605| 81-073-476-783|           2023-03-11|\n",
            "|491709| 0339|CANCELACION|  -104.0|       2023-11-01|             419678|715-740-532-138|           2023-03-11|\n",
            "|958758| 1265|CANCELACION|   -0.01|       2023-11-01|             288772|667-758-794-208|           2023-03-11|\n",
            "|442753| 4547|CANCELACION|  -580.0|       2023-11-01|              33886| 12-291-725-914|           2023-03-11|\n",
            "|954015| 3695|CANCELACION|   -10.0|       2023-11-01|             152398|711-816-854-813|           2023-03-11|\n",
            "|954015| 9740|CANCELACION|   -10.0|       2023-11-01|             662212|688-136-120-540|           2023-03-11|\n",
            "|944004| 5383|CANCELACION|  -300.0|       2023-11-01|             H24711|187-484-899-823|           2023-03-11|\n",
            "|959293| 8412|CANCELACION|  -107.0|       2023-11-01|             08634D|410-411-194-664|           2023-03-11|\n",
            "|905158| 0836|CANCELACION|  -220.0|       2023-11-01|              95398| 58-978-225-696|           2023-03-11|\n",
            "|984606| 5685|CANCELACION|  -314.0|       2023-11-01|             369620|155-838-411-668|           2023-03-11|\n",
            "|456677| 7144|CANCELACION| -1000.0|       2023-11-01|             617547|737-631-500-874|           2023-03-11|\n",
            "|975421| 2628|CANCELACION| -2496.0|       2023-11-01|              22359|107-053-358-783|           2023-03-11|\n",
            "|498639| 4646|CANCELACION|-30827.0|       2023-11-01|              87411|459-253-242-787|           2023-03-11|\n",
            "|905331| 6806|CANCELACION|   -75.0|       2023-11-01|             168695|275-454-698-187|           2023-03-11|\n",
            "|946737| 8290|CANCELACION|  -146.0|       2023-11-01|             631935|203-145-468-239|           2023-03-11|\n",
            "|922075| 4913|CANCELACION| -373.36|       2023-11-01|             100994|778-542-610-928|           2023-03-11|\n",
            "|965461| 7188|CANCELACION|  -187.0|       2023-11-01|             160806|362-238-832-516|           2023-03-11|\n",
            "+------+-----+-----------+--------+-----------------+-------------------+---------------+---------------------+\n",
            "only showing top 20 rows\n",
            "\n"
          ]
        }
      ]
    },
    {
      "cell_type": "code",
      "source": [
        "#Contar numero de filas\n",
        "print(df_clip_no_pago.count())\n",
        "print(df_santander_no_pago.count())"
      ],
      "metadata": {
        "colab": {
          "base_uri": "https://localhost:8080/"
        },
        "id": "5bHxIeOhPz8n",
        "outputId": "b5d2224a-ff20-4a2c-a13c-315f3e16ff68"
      },
      "execution_count": 21,
      "outputs": [
        {
          "output_type": "stream",
          "name": "stdout",
          "text": [
            "16218\n",
            "58\n"
          ]
        }
      ]
    },
    {
      "cell_type": "markdown",
      "source": [
        "#Casting"
      ],
      "metadata": {
        "id": "f_O5v_8Vkjqm"
      }
    },
    {
      "cell_type": "code",
      "source": [
        "df_clip_pago = df_clip_pago.withColumn(\"MONTO_D\", col(\"MONTO\").cast(\"double\"))\n",
        "df_santander_pago = df_santander_pago.withColumn(\"MONTO_D\", col(\"MONTO\").cast(\"double\"))"
      ],
      "metadata": {
        "id": "Xb37O-E-koH0"
      },
      "execution_count": 22,
      "outputs": []
    },
    {
      "cell_type": "code",
      "source": [
        "#verificar tipos de datos\n",
        "df_clip_pago.printSchema()\n",
        "df_santander_pago.printSchema()"
      ],
      "metadata": {
        "colab": {
          "base_uri": "https://localhost:8080/"
        },
        "id": "YBBg_ZUKoxkK",
        "outputId": "401ed4ba-b377-4efc-cc0e-682f4268bbe0"
      },
      "execution_count": 23,
      "outputs": [
        {
          "output_type": "stream",
          "name": "stdout",
          "text": [
            "root\n",
            " |-- INICIO6_TARJETA: string (nullable = true)\n",
            " |-- FINAL4_TARJETA: string (nullable = true)\n",
            " |-- TIPO_TRX: string (nullable = true)\n",
            " |-- MONTO: string (nullable = true)\n",
            " |-- FECHA_TRANSACCION: string (nullable = true)\n",
            " |-- CODIGO_AUTORIZACION: string (nullable = true)\n",
            " |-- ID_BANCO: string (nullable = true)\n",
            " |-- FECHA_RECEPCION_BANCO: string (nullable = true)\n",
            " |-- MONTO_D: double (nullable = true)\n",
            "\n",
            "root\n",
            " |-- BIN_6: string (nullable = true)\n",
            " |-- LAST4: string (nullable = true)\n",
            " |-- TIPO_TRX: string (nullable = true)\n",
            " |-- MONTO: double (nullable = true)\n",
            " |-- FECHA_TRANSACCION: date (nullable = true)\n",
            " |-- CODIGO_AUTORIZACION: string (nullable = true)\n",
            " |-- ID_BANCO: string (nullable = true)\n",
            " |-- FECHA_RECEPCION_BANCO: string (nullable = true)\n",
            " |-- MONTO_D: double (nullable = true)\n",
            "\n"
          ]
        }
      ]
    },
    {
      "cell_type": "markdown",
      "source": [
        "#Conciliación"
      ],
      "metadata": {
        "id": "CHaDdnLuzX0G"
      }
    },
    {
      "cell_type": "code",
      "source": [
        "cond = [\n",
        "    col(\"c.ID_BANCO\")             == col(\"s.ID_BANCO\"),         # 1) mismo ID\n",
        "    col(\"c.INICIO6_TARJETA\")      == col(\"s.BIN_6\"),                   # 2) mismos 6 dígitos\n",
        "    col(\"c.FINAL4_TARJETA\")       == col(\"s.LAST4\"),                # 3) mismos 4 últimos dígitos\n",
        "    abs(col(\"c.MONTO_D\") - col(\"s.MONTO_D\")) <= 0.99,               # 4) diff monto ≤ 0.99\n",
        "    to_date(col(\"c.FECHA_TRANSACCION\")) ==\n",
        "      to_date(col(\"s.FECHA_TRANSACCION\"))                         # 5) misma fecha\n",
        "]\n",
        "\n",
        "matched = (\n",
        "    df_clip_pago.alias(\"c\")\n",
        "    .join(df_santander_pago.alias(\"s\"), cond, how=\"inner\")\n",
        ")\n",
        "\n",
        "# Transacciones en Clip sin pareja en Santander\n",
        "only_in_clip = (\n",
        "    df_clip_pago.alias(\"c\")\n",
        "    .join(df_santander_pago.alias(\"s\"), cond, how=\"left_anti\")\n",
        ")\n",
        "\n",
        "# Transacciones en Santander sin pareja en Clip\n",
        "only_in_santander = (\n",
        "    df_santander_pago.alias(\"s\")\n",
        "    .join(df_clip_pago.alias(\"c\"), cond, how=\"left_anti\")\n",
        ")"
      ],
      "metadata": {
        "id": "HGpRvKj0zZ0z"
      },
      "execution_count": 25,
      "outputs": []
    },
    {
      "cell_type": "code",
      "source": [
        "# Conciliadas\n",
        "print(\"→ Conciliadas (match):\")\n",
        "matched.select(\n",
        "    \"c.ID_BANCO\",\"c.INICIO6_TARJETA\",\"c.FINAL4_TARJETA\",\"c.MONTO_D\",\"c.FECHA_TRANSACCION\",\n",
        "    \"s.MONTO_D\", \"c.TIPO_TRX\", \"s.ID_BANCO\", \"s.FECHA_RECEPCION_BANCO\", \"s.CODIGO_AUTORIZACION\"\n",
        ").show(10,truncate=False)\n",
        "\n",
        "# Sólo en Clip\n",
        "print(\"→ Sólo en Clip (sin match):\")\n",
        "only_in_clip.show(10, truncate=False)  # muestra 10 filas\n",
        "\n",
        "# Sólo en Santander\n",
        "print(\"→ Sólo en Santander (sin match):\")\n",
        "only_in_santander.show(10, truncate=False)"
      ],
      "metadata": {
        "colab": {
          "base_uri": "https://localhost:8080/"
        },
        "id": "EHdiFH_hlzmJ",
        "outputId": "19920332-07b1-4cbd-8e66-ba94fa8ff6bf"
      },
      "execution_count": 29,
      "outputs": [
        {
          "output_type": "stream",
          "name": "stdout",
          "text": [
            "→ Conciliadas (match):\n",
            "+-------------+---------------+--------------+-------+-----------------+-------+--------+-------------+---------------------+-------------------+\n",
            "|ID_BANCO     |INICIO6_TARJETA|FINAL4_TARJETA|MONTO_D|FECHA_TRANSACCION|MONTO_D|TIPO_TRX|ID_BANCO     |FECHA_RECEPCION_BANCO|CODIGO_AUTORIZACION|\n",
            "+-------------+---------------+--------------+-------+-----------------+-------+--------+-------------+---------------------+-------------------+\n",
            "|1-006-920-138|975488         |8840          |580.0  |2023-11-01       |580.0  |PAGADA  |1-006-920-138|2023-03-11           |1178               |\n",
            "|1-068-687-103|449289         |4444          |1000.0 |2023-11-01       |1000.0 |PAGADA  |1-068-687-103|2023-03-11           |1753               |\n",
            "|1-111-401-104|975199         |7422          |679.0  |2023-11-01       |679.0  |PAGADA  |1-111-401-104|2023-03-11           |629793             |\n",
            "|1-210-718-304|442753         |6747          |135.5  |2023-11-01       |135.5  |PAGADA  |1-210-718-304|2023-03-11           |55190              |\n",
            "|1-210-894-121|442753         |6519          |199.0  |2023-11-01       |199.0  |PAGADA  |1-210-894-121|2023-03-11           |4996               |\n",
            "|1-215-204-966|954015         |8461          |58.0   |2023-11-01       |58.0   |PAGADA  |1-215-204-966|2023-03-11           |9669               |\n",
            "|1-242-674-605|975488         |8252          |75.0   |2023-11-01       |75.0   |PAGADA  |1-242-674-605|2023-03-11           |14                 |\n",
            "|1-263-136-301|954015         |7403          |147.0  |2023-11-01       |147.0  |PAGADA  |1-263-136-301|2023-03-11           |898327             |\n",
            "|1-265-800-135|404826         |3876          |330.0  |2023-11-01       |330.0  |PAGADA  |1-265-800-135|2023-03-11           |8389               |\n",
            "|1-266-690-280|490354         |8444          |130.0  |2023-11-01       |130.0  |PAGADA  |1-266-690-280|2023-03-11           |198545             |\n",
            "+-------------+---------------+--------------+-------+-----------------+-------+--------+-------------+---------------------+-------------------+\n",
            "only showing top 10 rows\n",
            "\n",
            "→ Sólo en Clip (sin match):\n",
            "+---------------+--------------+--------+------+-----------------+-------------------+-------------+---------------------+-------+\n",
            "|INICIO6_TARJETA|FINAL4_TARJETA|TIPO_TRX|MONTO |FECHA_TRANSACCION|CODIGO_AUTORIZACION|ID_BANCO     |FECHA_RECEPCION_BANCO|MONTO_D|\n",
            "+---------------+--------------+--------+------+-----------------+-------------------+-------------+---------------------+-------+\n",
            "|452027         |8225          |PAGADA  |297.00|2023-11-01       |85385              |1-000-719-344|2023-11-01           |297.0  |\n",
            "|930288         |8784          |PAGADA  |609.00|2023-11-01       |60503              |1-006-477-580|2023-11-01           |609.0  |\n",
            "|984606         |2643          |PAGADA  |416.00|2023-11-01       |918235             |1-048-327-016|2023-11-02           |416.0  |\n",
            "|954015         |5353          |PAGADA  |76.00 |2023-11-01       |674401             |1-097-066-064|2023-11-01           |76.0   |\n",
            "|818156         |5698          |PAGADA  |122.00|2023-11-01       |920810             |1-116-792-114|2023-11-01           |122.0  |\n",
            "|442703         |913           |PAGADA  |129.00|2023-11-01       |801012             |1-141-893-958|2023-11-02           |129.0  |\n",
            "|905158         |879           |PAGADA  |392.00|2023-11-01       |36221              |1-170-049-613|2023-11-01           |392.0  |\n",
            "|940905         |4741          |PAGADA  |283.00|2023-11-01       |345561             |1-197-734-262|2023-11-01           |283.0  |\n",
            "|442753         |4368          |PAGADA  |77.00 |2023-11-01       |78                 |1-207-556-924|2023-11-01           |77.0   |\n",
            "|952697         |4298          |PAGADA  |433.00|2023-11-01       |62245              |1-219-420-541|2023-11-01           |433.0  |\n",
            "+---------------+--------------+--------+------+-----------------+-------------------+-------------+---------------------+-------+\n",
            "only showing top 10 rows\n",
            "\n",
            "→ Sólo en Santander (sin match):\n",
            "+------+-----+--------+-----+-----------------+-------------------+-------------+---------------------+-------+\n",
            "|BIN_6 |LAST4|TIPO_TRX|MONTO|FECHA_TRANSACCION|CODIGO_AUTORIZACION|ID_BANCO     |FECHA_RECEPCION_BANCO|MONTO_D|\n",
            "+------+-----+--------+-----+-----------------+-------------------+-------------+---------------------+-------+\n",
            "|818156|1326 |PAGO    |144.0|2023-11-01       |760621             |1-000-106-896|2023-03-11           |144.0  |\n",
            "|948795|6616 |PAGO    |100.0|2023-11-01       |496514             |1-018-559-553|2023-03-11           |100.0  |\n",
            "|802414|8188 |PAGO    |101.0|2023-11-01       |802099             |1-059-143-185|2023-03-11           |101.0  |\n",
            "|442703|0913 |PAGO    |129.0|2023-11-01       |801012             |1-141-893-958|2023-03-11           |129.0  |\n",
            "|490321|7559 |PAGO    |999.0|2023-11-01       |391543             |1-165-102-629|2023-03-11           |999.0  |\n",
            "|406645|0136 |PAGO    |77.0 |2023-11-01       |697559             |1-213-657-642|2023-03-11           |77.0   |\n",
            "|442753|4683 |PAGO    |263.0|2023-11-01       |51053              |1-233-965-179|2023-03-11           |263.0  |\n",
            "|802414|0754 |PAGO    |134.0|2023-11-01       |457275             |1-499-934-348|2023-03-11           |134.0  |\n",
            "|954015|4764 |PAGO    |200.0|2023-11-01       |254591             |1-514-659-889|2023-03-11           |200.0  |\n",
            "|497797|0582 |PAGO    |999.0|2023-11-01       |120723             |1-516-301-140|2023-03-11           |999.0  |\n",
            "+------+-----+--------+-----+-----------------+-------------------+-------------+---------------------+-------+\n",
            "only showing top 10 rows\n",
            "\n"
          ]
        }
      ]
    },
    {
      "cell_type": "code",
      "source": [
        "#Conteo de filas match\n",
        "print(matched.count())"
      ],
      "metadata": {
        "colab": {
          "base_uri": "https://localhost:8080/"
        },
        "id": "LZtEefTyW0qa",
        "outputId": "5ae3d5eb-f8f3-4d87-9289-eb2780acbd62"
      },
      "execution_count": 30,
      "outputs": [
        {
          "output_type": "stream",
          "name": "stdout",
          "text": [
            "86771\n"
          ]
        }
      ]
    },
    {
      "cell_type": "code",
      "source": [
        "#Conteo de filas solo en clip\n",
        "print(only_in_clip.count())\n"
      ],
      "metadata": {
        "colab": {
          "base_uri": "https://localhost:8080/"
        },
        "id": "PdD_9_hfbpUq",
        "outputId": "97e02412-f61c-41f1-b090-21db7de57741"
      },
      "execution_count": 31,
      "outputs": [
        {
          "output_type": "stream",
          "name": "stdout",
          "text": [
            "60557\n"
          ]
        }
      ]
    },
    {
      "cell_type": "code",
      "source": [
        "#Conteo de registros solo en santander\n",
        "print(only_in_santander.count())"
      ],
      "metadata": {
        "colab": {
          "base_uri": "https://localhost:8080/"
        },
        "id": "oGzeQfYqcl8-",
        "outputId": "46b16965-7a4a-4be1-d9ea-3b72b26fd98d"
      },
      "execution_count": 32,
      "outputs": [
        {
          "output_type": "stream",
          "name": "stdout",
          "text": [
            "45567\n"
          ]
        }
      ]
    },
    {
      "cell_type": "markdown",
      "source": [
        "#Conclusiones\n",
        "\n",
        "\n"
      ],
      "metadata": {
        "id": "IyHTVjlGWb1-"
      }
    },
    {
      "cell_type": "markdown",
      "source": [
        "Al realizar el tratamiento inicial de los datos nulos, duplicados y la filtración específica de las transacciones clasificadas como \"PAGO\" en los DataFrames de Clip y Santander, se observó un cambio importante en el número total de registros disponibles.\n",
        "\n",
        "Inicialmente, los registros totales eran de **163,549** en Clip y 132,398 en Santander. Después del tratamiento, los registros se ajustaron ligeramente a **163,537** en Clip y **132,396** en Santander. Esta pequeña variación refleja que no existían registros con valores realmente nulos, mientras que los duplicados encontrados y eliminados fueron mínimos. Sin embargo, es relevante destacar que se identificaron registros en Clip que contenían la cadena de texto \"null\". Este hallazgo merece atención especial, pues indica que hay registros almacenados incorrectamente como strings, lo que podría causar confusión o errores en análisis futuros. Por lo tanto, es recomendable realizar un análisis detallado para identificar el origen de estos registros y evaluar su impacto en procesos posteriores.\n",
        "\n",
        "En cuanto a las transacciones específicamente identificadas como pagos, se obtuvo un universo más reducido: **147,328** registros en Clip y **132,338** en Santander. Por otro lado, es notable mencionar que se identificaron **16,209** registros que no corresponden a pagos en Clip y apenas **58** en Santander, lo que resalta la relevancia de la clasificación precisa de los tipos de transacción.\n",
        "\n",
        "\n",
        "Además, antes de realizar la conciliación final, se ejecutó un proceso adicional para transformar los montos almacenados originalmente como cadenas de texto a un formato numérico (double), facilitando así una comparación precisa de valores monetarios. Esto permitió verificar efectivamente si los montos transaccionales coinciden o presentan una diferencia aceptable, establecida dentro del rango de más o menos 0.99 pesos.\n",
        "\n",
        "Finalmente, el proceso de conciliación reveló que **86,771** registros cumplían todas las condiciones establecidas: mismo ID, coincidencia exacta en los primeros 6 y últimos 4 dígitos de la tarjeta, fechas idénticas de transacción y montos que difieren como máximo en 0.99 pesos. Además, se detectaron registros únicos sin correspondencia entre ambas bases: **60,557** transacciones únicas de pagos en Clip y **45,567** en Santander."
      ],
      "metadata": {
        "id": "cwLJw4EBvfhY"
      }
    },
    {
      "cell_type": "markdown",
      "source": [
        "| **Concepto**                              | **Clip**   | **Santander** |\n",
        "| ----------------------------------------- | ---------- | ------------- |\n",
        "| Registros iniciales totales               | 163,549    | 132,398       |\n",
        "| Registros después de tratamiento          | 163,537    | 132,396       |\n",
        "| Transacciones clasificadas como \"PAGO\"    | 147,328    | 132,338       |\n",
        "| Transacciones clasificadas como \"NO PAGO\" | 16,216     | 58            |\n",
        "| Transacciones conciliadas (match)         | **86,771** | **86,771**    |\n",
        "| Transacciones únicas (sin conciliación)   | 60,557     | 45,567        |\n"
      ],
      "metadata": {
        "id": "DAnU5r5twr_B"
      }
    },
    {
      "cell_type": "code",
      "source": [],
      "metadata": {
        "id": "k2bmsQCkXT8G"
      },
      "execution_count": null,
      "outputs": []
    }
  ]
}